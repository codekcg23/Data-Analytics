{
 "metadata": {
  "language_info": {
   "codemirror_mode": {
    "name": "ipython",
    "version": 3
   },
   "file_extension": ".py",
   "mimetype": "text/x-python",
   "name": "python",
   "nbconvert_exporter": "python",
   "pygments_lexer": "ipython3",
   "version": "3.7.6"
  },
  "orig_nbformat": 4,
  "kernelspec": {
   "name": "python3",
   "display_name": "Python 3.7.6 64-bit ('base': conda)"
  },
  "interpreter": {
   "hash": "fbbb7d2143a1d68e1cf272edf0974e702b621cb99b4ee39ce84db3bf0ffb588e"
  }
 },
 "nbformat": 4,
 "nbformat_minor": 2,
 "cells": [
  {
   "source": [
    "# Asssingment 03\n",
    "## Question 01- Online Passive Aggressive Algorithm\n",
    "## Index Number - 17000475\n",
    "### Youtube Link -"
   ],
   "cell_type": "markdown",
   "metadata": {}
  },
  {
   "source": [
    "## Terms used in journal paper\n",
    "w - Vector of weights (w ∈ Rn) \n",
    "\n",
    "n_iter - number of iteration \n",
    "\n",
    "c- aggressiveness parameter (regression)\n",
    "\n",
    "(x,y) - instance label pair  y is + or -\n",
    "\n",
    "|w.x| - Degree of confidence\n",
    "\n",
    "y(w.x) - Signed Margin\n",
    "\n",
    "Goal of algorithm - achive an margin of at least 1\n",
    "\n",
    "hinge-loss (when algorithm get margin less than 1) - loss(w,(x,y)) = if y(w.x) >=1 then 0 else 1-y(w.x)\n",
    "\n",
    "\n",
    "\n"
   ],
   "cell_type": "markdown",
   "metadata": {}
  },
  {
   "source": [
    "## Binary Classification Algorithms\n",
    "There are three variants . Three different way of updating the rule of weight vector.\n",
    "\n",
    "All three variants initialized w vector to zero.\n",
    "\n",
    "wt+1 = argmin (1/2(|w-wt|)^2) s.t loss(w,(x,y)) = 0\n",
    "\n",
    "Another way to express this same update rule is ,\n",
    "\n",
    "wt+1 = wt + (tor) x (yt) x (xt)  where tor = loss_t / |xt|^2 (accroding to PA)\n",
    "\n",
    "loss_t is hinge loss which gives as loss(w,(x,y))\n",
    "\n",
    "### Passive is when hinge loss is 0 and aggressive when hinge loss is positive."
   ],
   "cell_type": "markdown",
   "metadata": {}
  },
  {
   "source": [
    "## Task 2 : Implementation of Passive Agressive algorithm for classification"
   ],
   "cell_type": "markdown",
   "metadata": {}
  },
  {
   "cell_type": "code",
   "execution_count": 1,
   "metadata": {},
   "outputs": [],
   "source": [
    "#  torr = loss_t / |xt|^2 (accroding to PA)\n",
    "def passive_aggressive(hinge_loss,xsquare,c=None):\n",
    "    return hinge_loss/ xsquare"
   ]
  },
  {
   "cell_type": "code",
   "execution_count": 2,
   "metadata": {},
   "outputs": [],
   "source": [
    "# PA varinat 1\n",
    "def passive_aggressive_1(hinge_loss,xsquare,c):\n",
    "    return min([c,hinge_loss/xsquare])"
   ]
  },
  {
   "cell_type": "code",
   "execution_count": 3,
   "metadata": {},
   "outputs": [],
   "source": [
    "# PA variant 2\n",
    "def passive_aggressive_2(hinge_loss,xsquare,c):\n",
    "    return hinge_loss/(xsquare+1/(2*c))\n",
    "  "
   ]
  },
  {
   "cell_type": "code",
   "execution_count": null,
   "metadata": {},
   "outputs": [],
   "source": [
    "'''\n",
    "Parameters : \n",
    "X- matrix with features\n",
    "y- matrix with classes\n",
    "update_rule - name of variant of update rule\n",
    "c -\n",
    "\n",
    "'''\n",
    "\n",
    "def PA_algorithm(X,Y,update_rule,n_iter=1,c=None):\n",
    "    w= np.zeros(X.shape[1])                  # initialize as 0\n",
    "    for j in range(n_iter):    \n",
    "        for i in range(0,X.shape[0]):                # each instanse\n",
    "            xsquare =  np.dot(X[i],X[i].T)\n",
    "            #print(1- Y[i]*(np.dot(w.T,X[i])))\n",
    "            hinge_loss = max(0,1-Y[i]*np.dot(w.T,X[i]))\n",
    "            #print('hinge_loss',hinge_loss)\n",
    "            torr = update_rule(hinge_loss,xsquare,c)             # PA or PA I or PA II  \n",
    "            #print(\"torr \",torr)\n",
    "            w = w + torr*Y[i]*X[i]                # update\n",
    "            #print(type(torr*Y[i]*X[i]))\n",
    "            #print('w ',w)\n",
    "    return w\n",
    "    "
   ]
  },
  {
   "source": [
    "## Task 3 : Preparing the dataset\n",
    "## Breast Cancer Dataset\n",
    "Since breast cancer dataset is used for binary classification task we will use classification algorithm. \n",
    "bengin (2) reflect -1 which says no cancer and malignant (4) +1 which says there is a cancer."
   ],
   "cell_type": "markdown",
   "metadata": {}
  },
  {
   "cell_type": "code",
   "execution_count": 4,
   "metadata": {},
   "outputs": [],
   "source": [
    "# import modules\n",
    "import numpy as np \n",
    "import pandas as pd \n"
   ]
  },
  {
   "cell_type": "code",
   "execution_count": 11,
   "metadata": {},
   "outputs": [
    {
     "output_type": "execute_result",
     "data": {
      "text/plain": [
       "        0   1   2   3   4   5   6   7   8   9   10\n",
       "0  1000025   5   1   1   1   2   1   3   1   1   2\n",
       "1  1002945   5   4   4   5   7  10   3   2   1   2\n",
       "2  1015425   3   1   1   1   2   2   3   1   1   2\n",
       "3  1016277   6   8   8   1   3   4   3   7   1   2\n",
       "4  1017023   4   1   1   3   2   1   3   1   1   2"
      ],
      "text/html": "<div>\n<style scoped>\n    .dataframe tbody tr th:only-of-type {\n        vertical-align: middle;\n    }\n\n    .dataframe tbody tr th {\n        vertical-align: top;\n    }\n\n    .dataframe thead th {\n        text-align: right;\n    }\n</style>\n<table border=\"1\" class=\"dataframe\">\n  <thead>\n    <tr style=\"text-align: right;\">\n      <th></th>\n      <th>0</th>\n      <th>1</th>\n      <th>2</th>\n      <th>3</th>\n      <th>4</th>\n      <th>5</th>\n      <th>6</th>\n      <th>7</th>\n      <th>8</th>\n      <th>9</th>\n      <th>10</th>\n    </tr>\n  </thead>\n  <tbody>\n    <tr>\n      <th>0</th>\n      <td>1000025</td>\n      <td>5</td>\n      <td>1</td>\n      <td>1</td>\n      <td>1</td>\n      <td>2</td>\n      <td>1</td>\n      <td>3</td>\n      <td>1</td>\n      <td>1</td>\n      <td>2</td>\n    </tr>\n    <tr>\n      <th>1</th>\n      <td>1002945</td>\n      <td>5</td>\n      <td>4</td>\n      <td>4</td>\n      <td>5</td>\n      <td>7</td>\n      <td>10</td>\n      <td>3</td>\n      <td>2</td>\n      <td>1</td>\n      <td>2</td>\n    </tr>\n    <tr>\n      <th>2</th>\n      <td>1015425</td>\n      <td>3</td>\n      <td>1</td>\n      <td>1</td>\n      <td>1</td>\n      <td>2</td>\n      <td>2</td>\n      <td>3</td>\n      <td>1</td>\n      <td>1</td>\n      <td>2</td>\n    </tr>\n    <tr>\n      <th>3</th>\n      <td>1016277</td>\n      <td>6</td>\n      <td>8</td>\n      <td>8</td>\n      <td>1</td>\n      <td>3</td>\n      <td>4</td>\n      <td>3</td>\n      <td>7</td>\n      <td>1</td>\n      <td>2</td>\n    </tr>\n    <tr>\n      <th>4</th>\n      <td>1017023</td>\n      <td>4</td>\n      <td>1</td>\n      <td>1</td>\n      <td>3</td>\n      <td>2</td>\n      <td>1</td>\n      <td>3</td>\n      <td>1</td>\n      <td>1</td>\n      <td>2</td>\n    </tr>\n  </tbody>\n</table>\n</div>"
     },
     "metadata": {},
     "execution_count": 11
    }
   ],
   "source": [
    "# read dataset\n",
    "data = pd.read_csv('datafile.csv',header=None)\n",
    "data.head()"
   ]
  },
  {
   "cell_type": "code",
   "execution_count": 12,
   "metadata": {},
   "outputs": [
    {
     "output_type": "execute_result",
     "data": {
      "text/plain": [
       "          0   1   2   3   4   5  6   7   8   9   10\n",
       "23   1057013   8   4   5   1   2  ?   7   3   1   4\n",
       "40   1096800   6   6   6   9   6  ?   7   8   1   2\n",
       "139  1183246   1   1   1   1   1  ?   2   1   1   2\n",
       "145  1184840   1   1   3   1   2  ?   2   1   1   2\n",
       "158  1193683   1   1   2   1   3  ?   1   1   1   2\n",
       "164  1197510   5   1   1   1   2  ?   3   1   1   2\n",
       "235  1241232   3   1   4   1   2  ?   3   1   1   2\n",
       "249   169356   3   1   1   1   2  ?   3   1   1   2\n",
       "275   432809   3   1   3   1   2  ?   2   1   1   2\n",
       "292   563649   8   8   8   1   2  ?   6  10   1   4\n",
       "294   606140   1   1   1   1   2  ?   2   1   1   2\n",
       "297    61634   5   4   3   1   2  ?   2   3   1   2\n",
       "315   704168   4   6   5   6   7  ?   4   9   1   2\n",
       "321   733639   3   1   1   1   2  ?   3   1   1   2\n",
       "411  1238464   1   1   1   1   1  ?   2   1   1   2\n",
       "617  1057067   1   1   1   1   1  ?   1   1   1   2"
      ],
      "text/html": "<div>\n<style scoped>\n    .dataframe tbody tr th:only-of-type {\n        vertical-align: middle;\n    }\n\n    .dataframe tbody tr th {\n        vertical-align: top;\n    }\n\n    .dataframe thead th {\n        text-align: right;\n    }\n</style>\n<table border=\"1\" class=\"dataframe\">\n  <thead>\n    <tr style=\"text-align: right;\">\n      <th></th>\n      <th>0</th>\n      <th>1</th>\n      <th>2</th>\n      <th>3</th>\n      <th>4</th>\n      <th>5</th>\n      <th>6</th>\n      <th>7</th>\n      <th>8</th>\n      <th>9</th>\n      <th>10</th>\n    </tr>\n  </thead>\n  <tbody>\n    <tr>\n      <th>23</th>\n      <td>1057013</td>\n      <td>8</td>\n      <td>4</td>\n      <td>5</td>\n      <td>1</td>\n      <td>2</td>\n      <td>?</td>\n      <td>7</td>\n      <td>3</td>\n      <td>1</td>\n      <td>4</td>\n    </tr>\n    <tr>\n      <th>40</th>\n      <td>1096800</td>\n      <td>6</td>\n      <td>6</td>\n      <td>6</td>\n      <td>9</td>\n      <td>6</td>\n      <td>?</td>\n      <td>7</td>\n      <td>8</td>\n      <td>1</td>\n      <td>2</td>\n    </tr>\n    <tr>\n      <th>139</th>\n      <td>1183246</td>\n      <td>1</td>\n      <td>1</td>\n      <td>1</td>\n      <td>1</td>\n      <td>1</td>\n      <td>?</td>\n      <td>2</td>\n      <td>1</td>\n      <td>1</td>\n      <td>2</td>\n    </tr>\n    <tr>\n      <th>145</th>\n      <td>1184840</td>\n      <td>1</td>\n      <td>1</td>\n      <td>3</td>\n      <td>1</td>\n      <td>2</td>\n      <td>?</td>\n      <td>2</td>\n      <td>1</td>\n      <td>1</td>\n      <td>2</td>\n    </tr>\n    <tr>\n      <th>158</th>\n      <td>1193683</td>\n      <td>1</td>\n      <td>1</td>\n      <td>2</td>\n      <td>1</td>\n      <td>3</td>\n      <td>?</td>\n      <td>1</td>\n      <td>1</td>\n      <td>1</td>\n      <td>2</td>\n    </tr>\n    <tr>\n      <th>164</th>\n      <td>1197510</td>\n      <td>5</td>\n      <td>1</td>\n      <td>1</td>\n      <td>1</td>\n      <td>2</td>\n      <td>?</td>\n      <td>3</td>\n      <td>1</td>\n      <td>1</td>\n      <td>2</td>\n    </tr>\n    <tr>\n      <th>235</th>\n      <td>1241232</td>\n      <td>3</td>\n      <td>1</td>\n      <td>4</td>\n      <td>1</td>\n      <td>2</td>\n      <td>?</td>\n      <td>3</td>\n      <td>1</td>\n      <td>1</td>\n      <td>2</td>\n    </tr>\n    <tr>\n      <th>249</th>\n      <td>169356</td>\n      <td>3</td>\n      <td>1</td>\n      <td>1</td>\n      <td>1</td>\n      <td>2</td>\n      <td>?</td>\n      <td>3</td>\n      <td>1</td>\n      <td>1</td>\n      <td>2</td>\n    </tr>\n    <tr>\n      <th>275</th>\n      <td>432809</td>\n      <td>3</td>\n      <td>1</td>\n      <td>3</td>\n      <td>1</td>\n      <td>2</td>\n      <td>?</td>\n      <td>2</td>\n      <td>1</td>\n      <td>1</td>\n      <td>2</td>\n    </tr>\n    <tr>\n      <th>292</th>\n      <td>563649</td>\n      <td>8</td>\n      <td>8</td>\n      <td>8</td>\n      <td>1</td>\n      <td>2</td>\n      <td>?</td>\n      <td>6</td>\n      <td>10</td>\n      <td>1</td>\n      <td>4</td>\n    </tr>\n    <tr>\n      <th>294</th>\n      <td>606140</td>\n      <td>1</td>\n      <td>1</td>\n      <td>1</td>\n      <td>1</td>\n      <td>2</td>\n      <td>?</td>\n      <td>2</td>\n      <td>1</td>\n      <td>1</td>\n      <td>2</td>\n    </tr>\n    <tr>\n      <th>297</th>\n      <td>61634</td>\n      <td>5</td>\n      <td>4</td>\n      <td>3</td>\n      <td>1</td>\n      <td>2</td>\n      <td>?</td>\n      <td>2</td>\n      <td>3</td>\n      <td>1</td>\n      <td>2</td>\n    </tr>\n    <tr>\n      <th>315</th>\n      <td>704168</td>\n      <td>4</td>\n      <td>6</td>\n      <td>5</td>\n      <td>6</td>\n      <td>7</td>\n      <td>?</td>\n      <td>4</td>\n      <td>9</td>\n      <td>1</td>\n      <td>2</td>\n    </tr>\n    <tr>\n      <th>321</th>\n      <td>733639</td>\n      <td>3</td>\n      <td>1</td>\n      <td>1</td>\n      <td>1</td>\n      <td>2</td>\n      <td>?</td>\n      <td>3</td>\n      <td>1</td>\n      <td>1</td>\n      <td>2</td>\n    </tr>\n    <tr>\n      <th>411</th>\n      <td>1238464</td>\n      <td>1</td>\n      <td>1</td>\n      <td>1</td>\n      <td>1</td>\n      <td>1</td>\n      <td>?</td>\n      <td>2</td>\n      <td>1</td>\n      <td>1</td>\n      <td>2</td>\n    </tr>\n    <tr>\n      <th>617</th>\n      <td>1057067</td>\n      <td>1</td>\n      <td>1</td>\n      <td>1</td>\n      <td>1</td>\n      <td>1</td>\n      <td>?</td>\n      <td>1</td>\n      <td>1</td>\n      <td>1</td>\n      <td>2</td>\n    </tr>\n  </tbody>\n</table>\n</div>"
     },
     "metadata": {},
     "execution_count": 12
    }
   ],
   "source": [
    "# find ? mark \n",
    "data[data.eq(\"?\").any(1)]"
   ]
  },
  {
   "cell_type": "code",
   "execution_count": 13,
   "metadata": {},
   "outputs": [],
   "source": [
    " #replace ? mark  with 0\n",
    " data = data.replace([\"?\"],0)"
   ]
  },
  {
   "cell_type": "code",
   "execution_count": 14,
   "metadata": {},
   "outputs": [
    {
     "output_type": "execute_result",
     "data": {
      "text/plain": [
       "Empty DataFrame\n",
       "Columns: [0, 1, 2, 3, 4, 5, 6, 7, 8, 9, 10]\n",
       "Index: []"
      ],
      "text/html": "<div>\n<style scoped>\n    .dataframe tbody tr th:only-of-type {\n        vertical-align: middle;\n    }\n\n    .dataframe tbody tr th {\n        vertical-align: top;\n    }\n\n    .dataframe thead th {\n        text-align: right;\n    }\n</style>\n<table border=\"1\" class=\"dataframe\">\n  <thead>\n    <tr style=\"text-align: right;\">\n      <th></th>\n      <th>0</th>\n      <th>1</th>\n      <th>2</th>\n      <th>3</th>\n      <th>4</th>\n      <th>5</th>\n      <th>6</th>\n      <th>7</th>\n      <th>8</th>\n      <th>9</th>\n      <th>10</th>\n    </tr>\n  </thead>\n  <tbody>\n  </tbody>\n</table>\n</div>"
     },
     "metadata": {},
     "execution_count": 14
    }
   ],
   "source": [
    "#check whether it's removed\n",
    "data[data.eq(\"?\").any(1)]"
   ]
  },
  {
   "cell_type": "code",
   "execution_count": 15,
   "metadata": {},
   "outputs": [],
   "source": [
    "# drop id column\n",
    "data.drop([0],axis=1,inplace = True)"
   ]
  },
  {
   "cell_type": "code",
   "execution_count": 17,
   "metadata": {},
   "outputs": [
    {
     "output_type": "execute_result",
     "data": {
      "text/plain": [
       "   1   2   3   4   5   6   7   8   9   10\n",
       "0   5   1   1   1   2   1   3   1   1   2\n",
       "1   5   4   4   5   7  10   3   2   1   2\n",
       "2   3   1   1   1   2   2   3   1   1   2\n",
       "3   6   8   8   1   3   4   3   7   1   2\n",
       "4   4   1   1   3   2   1   3   1   1   2"
      ],
      "text/html": "<div>\n<style scoped>\n    .dataframe tbody tr th:only-of-type {\n        vertical-align: middle;\n    }\n\n    .dataframe tbody tr th {\n        vertical-align: top;\n    }\n\n    .dataframe thead th {\n        text-align: right;\n    }\n</style>\n<table border=\"1\" class=\"dataframe\">\n  <thead>\n    <tr style=\"text-align: right;\">\n      <th></th>\n      <th>1</th>\n      <th>2</th>\n      <th>3</th>\n      <th>4</th>\n      <th>5</th>\n      <th>6</th>\n      <th>7</th>\n      <th>8</th>\n      <th>9</th>\n      <th>10</th>\n    </tr>\n  </thead>\n  <tbody>\n    <tr>\n      <th>0</th>\n      <td>5</td>\n      <td>1</td>\n      <td>1</td>\n      <td>1</td>\n      <td>2</td>\n      <td>1</td>\n      <td>3</td>\n      <td>1</td>\n      <td>1</td>\n      <td>2</td>\n    </tr>\n    <tr>\n      <th>1</th>\n      <td>5</td>\n      <td>4</td>\n      <td>4</td>\n      <td>5</td>\n      <td>7</td>\n      <td>10</td>\n      <td>3</td>\n      <td>2</td>\n      <td>1</td>\n      <td>2</td>\n    </tr>\n    <tr>\n      <th>2</th>\n      <td>3</td>\n      <td>1</td>\n      <td>1</td>\n      <td>1</td>\n      <td>2</td>\n      <td>2</td>\n      <td>3</td>\n      <td>1</td>\n      <td>1</td>\n      <td>2</td>\n    </tr>\n    <tr>\n      <th>3</th>\n      <td>6</td>\n      <td>8</td>\n      <td>8</td>\n      <td>1</td>\n      <td>3</td>\n      <td>4</td>\n      <td>3</td>\n      <td>7</td>\n      <td>1</td>\n      <td>2</td>\n    </tr>\n    <tr>\n      <th>4</th>\n      <td>4</td>\n      <td>1</td>\n      <td>1</td>\n      <td>3</td>\n      <td>2</td>\n      <td>1</td>\n      <td>3</td>\n      <td>1</td>\n      <td>1</td>\n      <td>2</td>\n    </tr>\n  </tbody>\n</table>\n</div>"
     },
     "metadata": {},
     "execution_count": 17
    }
   ],
   "source": [
    "data.head()"
   ]
  },
  {
   "cell_type": "code",
   "execution_count": 18,
   "metadata": {},
   "outputs": [
    {
     "output_type": "execute_result",
     "data": {
      "text/plain": [
       "0      2\n",
       "1      2\n",
       "2      2\n",
       "3      2\n",
       "4      2\n",
       "      ..\n",
       "694    2\n",
       "695    2\n",
       "696    4\n",
       "697    4\n",
       "698    4\n",
       "Name: 10, Length: 699, dtype: int64"
      ]
     },
     "metadata": {},
     "execution_count": 18
    }
   ],
   "source": [
    "data[10]"
   ]
  },
  {
   "cell_type": "code",
   "execution_count": 19,
   "metadata": {},
   "outputs": [
    {
     "output_type": "execute_result",
     "data": {
      "text/plain": [
       "0     -1\n",
       "1     -1\n",
       "2     -1\n",
       "3     -1\n",
       "4     -1\n",
       "      ..\n",
       "694   -1\n",
       "695   -1\n",
       "696    1\n",
       "697    1\n",
       "698    1\n",
       "Name: 10, Length: 699, dtype: int64"
      ]
     },
     "metadata": {},
     "execution_count": 19
    }
   ],
   "source": [
    "# replace class column 10 th column 2, 4 value with -1 and, +1\n",
    "data[10] = data[10].map({2:-1,4:+1})\n",
    "data[10]"
   ]
  },
  {
   "cell_type": "code",
   "execution_count": 20,
   "metadata": {},
   "outputs": [
    {
     "output_type": "stream",
     "name": "stdout",
     "text": [
      "[[ 5  1  1 ...  3  1  1]\n [ 5  4  4 ...  3  2  1]\n [ 3  1  1 ...  3  1  1]\n ...\n [ 5 10 10 ...  8 10  2]\n [ 4  8  6 ... 10  6  1]\n [ 4  8  8 ... 10  4  1]]\n(699, 9)\n[-1 -1 -1 -1 -1  1 -1 -1 -1 -1 -1 -1  1 -1  1  1 -1 -1  1 -1  1  1 -1  1\n -1  1 -1 -1 -1 -1 -1 -1  1 -1 -1 -1  1 -1  1  1 -1  1  1  1  1 -1  1 -1\n -1  1  1  1  1  1  1  1  1  1  1  1  1 -1  1  1 -1  1 -1  1  1 -1 -1  1\n -1  1  1 -1 -1 -1 -1 -1 -1 -1 -1 -1  1  1  1  1 -1 -1 -1 -1 -1 -1 -1 -1\n -1 -1  1  1  1  1 -1  1  1  1  1  1 -1  1 -1  1  1  1 -1 -1 -1  1 -1 -1\n -1 -1  1  1  1 -1  1 -1  1 -1 -1 -1  1 -1 -1 -1 -1 -1 -1 -1 -1 -1  1 -1\n -1 -1  1 -1 -1  1 -1  1  1 -1 -1  1 -1 -1 -1  1  1 -1 -1 -1 -1 -1  1  1\n -1 -1 -1 -1 -1  1  1  1 -1  1 -1  1 -1 -1 -1  1  1 -1  1  1  1 -1  1  1\n -1 -1 -1 -1 -1 -1 -1 -1  1  1 -1 -1 -1  1  1 -1 -1 -1  1  1 -1  1  1  1\n -1 -1  1 -1 -1  1  1  1  1 -1  1  1 -1  1  1  1 -1  1 -1 -1  1  1  1  1\n -1 -1 -1 -1 -1 -1  1  1 -1 -1 -1  1 -1  1  1  1 -1 -1 -1 -1  1  1  1  1\n  1 -1  1  1  1 -1  1 -1  1  1 -1 -1 -1 -1 -1  1 -1 -1  1  1  1  1  1 -1\n  1  1 -1 -1  1  1 -1  1 -1 -1 -1  1  1 -1  1 -1  1  1 -1 -1  1 -1 -1 -1\n  1 -1 -1 -1  1  1 -1 -1  1 -1 -1  1 -1 -1  1 -1  1  1  1 -1 -1  1  1 -1\n  1 -1 -1  1  1 -1 -1 -1  1 -1 -1 -1  1  1 -1 -1 -1  1 -1 -1  1  1  1  1\n  1  1 -1 -1 -1 -1  1  1 -1 -1 -1 -1 -1 -1 -1 -1 -1 -1 -1 -1 -1  1 -1 -1\n -1 -1  1 -1 -1 -1 -1  1 -1 -1 -1 -1 -1 -1 -1 -1  1 -1 -1 -1 -1 -1 -1 -1\n -1 -1 -1 -1  1 -1  1 -1  1 -1 -1 -1 -1  1 -1 -1 -1  1 -1  1 -1 -1 -1 -1\n -1 -1 -1  1  1 -1 -1 -1  1 -1 -1 -1 -1 -1 -1 -1 -1  1 -1 -1 -1  1 -1  1\n  1  1 -1 -1 -1 -1 -1 -1 -1  1  1  1 -1 -1 -1 -1 -1 -1 -1 -1 -1 -1 -1  1\n -1 -1  1  1 -1 -1 -1  1  1  1 -1  1 -1  1 -1 -1 -1 -1 -1 -1 -1 -1 -1 -1\n -1 -1  1 -1 -1 -1 -1 -1 -1 -1  1  1 -1 -1 -1  1 -1 -1  1  1 -1 -1 -1 -1\n -1 -1  1 -1 -1 -1 -1 -1 -1 -1 -1 -1 -1 -1 -1 -1 -1 -1  1 -1 -1  1 -1 -1\n -1 -1 -1 -1 -1 -1 -1 -1 -1 -1 -1 -1 -1  1 -1 -1  1  1  1  1 -1 -1  1 -1\n -1 -1 -1 -1 -1  1  1 -1 -1 -1  1 -1  1 -1  1  1  1 -1  1 -1 -1 -1 -1 -1\n -1 -1 -1  1  1  1 -1 -1  1 -1  1  1  1 -1 -1 -1 -1 -1 -1 -1 -1 -1 -1 -1\n -1 -1  1 -1 -1 -1 -1 -1 -1  1 -1 -1  1 -1 -1 -1 -1 -1 -1 -1 -1 -1 -1 -1\n  1 -1 -1 -1 -1 -1 -1 -1 -1 -1  1 -1 -1 -1 -1 -1 -1 -1 -1 -1  1  1  1 -1\n -1 -1 -1 -1 -1 -1 -1 -1  1  1 -1 -1 -1 -1 -1 -1 -1 -1 -1  1 -1 -1 -1 -1\n  1  1  1]\n(699,)\n"
     ]
    }
   ],
   "source": [
    "X = data[:].drop(10,axis=1).to_numpy(dtype='int')\n",
    "print(X)\n",
    "print(X.shape)\n",
    "Y = data[:].pop(10).to_numpy(dtype='int')\n",
    "print(Y)\n",
    "print(Y.shape)"
   ]
  },
  {
   "source": [
    "## Task 4 : Apply classifier on Breast cancer dataset \n",
    "## PA I and PA II Implementation"
   ],
   "cell_type": "markdown",
   "metadata": {}
  },
  {
   "cell_type": "code",
   "execution_count": 86,
   "metadata": {},
   "outputs": [
    {
     "output_type": "execute_result",
     "data": {
      "text/plain": [
       "33.333333333333336"
      ]
     },
     "metadata": {},
     "execution_count": 86
    }
   ],
   "source": [
    "(100*1)/3"
   ]
  },
  {
   "cell_type": "code",
   "execution_count": 21,
   "metadata": {},
   "outputs": [],
   "source": [
    "# Training and Testing set split\n",
    "data_copy = data.copy()\n",
    "from sklearn.model_selection import train_test_split\n",
    "X_train, X_test, Y_train, Y_test = train_test_split(X, Y, test_size=0.33,random_state=200)\n",
    "# X_train = data.sample(frac=0.7, random_state=0)\n",
    "# X_test = data.drop(X_train.index)\n",
    "\n",
    "# Y_train = X_train.pop([10])\n",
    "# Y_test = X_test.pop([10])"
   ]
  },
  {
   "cell_type": "code",
   "execution_count": 22,
   "metadata": {},
   "outputs": [
    {
     "output_type": "stream",
     "name": "stdout",
     "text": [
      "(468, 9) (468,)\n(231, 9) (231,)\n"
     ]
    }
   ],
   "source": [
    "print(X_train.shape, Y_train.shape)\n",
    "print(X_test.shape, Y_test.shape)"
   ]
  },
  {
   "source": [
    "## Training"
   ],
   "cell_type": "markdown",
   "metadata": {}
  },
  {
   "cell_type": "code",
   "execution_count": 177,
   "metadata": {},
   "outputs": [
    {
     "output_type": "execute_result",
     "data": {
      "text/plain": [
       "44.0"
      ]
     },
     "metadata": {},
     "execution_count": 177
    }
   ],
   "source": [
    "#np.power(np.linalg.norm(xt, ord=2), 2)"
   ]
  },
  {
   "source": [
    "## PA variant"
   ],
   "cell_type": "markdown",
   "metadata": {}
  },
  {
   "cell_type": "code",
   "execution_count": 27,
   "metadata": {
    "tags": []
   },
   "outputs": [],
   "source": [
    "# Training \n",
    "w = PA_algorithm(X_train,Y_train,passive_aggressive)"
   ]
  },
  {
   "source": [
    "## Results"
   ],
   "cell_type": "markdown",
   "metadata": {}
  },
  {
   "cell_type": "code",
   "execution_count": 28,
   "metadata": {},
   "outputs": [
    {
     "output_type": "stream",
     "name": "stdout",
     "text": [
      "PA Train accuracy: 0.6987179487179487\n"
     ]
    }
   ],
   "source": [
    "# Compute accuracy of training set\n",
    "Y_train_pred = np.sign(np.dot(w.T, X_train.T))\n",
    "count = np.count_nonzero(Y_train_pred + Y_train) # correct count\n",
    "\n",
    "print('PA Train accuracy: {}'.format(float(count) / X_train.shape[0]))"
   ]
  },
  {
   "cell_type": "code",
   "execution_count": 29,
   "metadata": {},
   "outputs": [
    {
     "output_type": "stream",
     "name": "stdout",
     "text": [
      "PA Test accuracy: 0.7142857142857143\n"
     ]
    }
   ],
   "source": [
    "# Compute accuracy of test set\n",
    "Y_pred = np.sign(np.dot(w.T, X_test.T))\n",
    "c = np.count_nonzero(Y_pred + Y_test)   # correct count\n",
    "\n",
    "print('PA Test accuracy: {}'.format( float(c) / X_test.shape[0]))"
   ]
  },
  {
   "source": [
    "## PA I variant"
   ],
   "cell_type": "markdown",
   "metadata": {}
  },
  {
   "cell_type": "code",
   "execution_count": 32,
   "metadata": {},
   "outputs": [
    {
     "output_type": "stream",
     "name": "stdout",
     "text": [
      "Iteration - 1\nPA I Train accuracy: 0.6987179487179487\nPA I Test accuracy: 0.7142857142857143\nIteration - 2\nPA I Train accuracy: 0.7264957264957265\nPA I Test accuracy: 0.7316017316017316\nIteration - 10\nPA I Train accuracy: 0.7329059829059829\nPA I Test accuracy: 0.7359307359307359\n"
     ]
    }
   ],
   "source": [
    "for n_iter in [1,2,10]:\n",
    "    # Training \n",
    "    w = PA_algorithm(X_train,Y_train,passive_aggressive_1,n_iter,c=1)\n",
    "    # Compute accuracy of training set\n",
    "    Y_train_pred = np.sign(np.dot(w.T, X_train.T))\n",
    "    count = np.count_nonzero(Y_train_pred + Y_train) # correct count\n",
    "    print('Iteration -',n_iter)\n",
    "    print('PA I Train accuracy: {}'.format(float(count) / X_train.shape[0]))\n",
    "\n",
    "    # Compute accuracy of test set\n",
    "    Y_pred = np.sign(np.dot(w.T, X_test.T))\n",
    "    c = np.count_nonzero(Y_pred + Y_test)   # correct count\n",
    "    print('PA I Test accuracy: {}'.format( float(c) / X_test.shape[0]))"
   ]
  },
  {
   "source": [
    "## PA II variant"
   ],
   "cell_type": "markdown",
   "metadata": {}
  },
  {
   "cell_type": "code",
   "execution_count": 33,
   "metadata": {},
   "outputs": [
    {
     "output_type": "stream",
     "name": "stdout",
     "text": [
      "Iteration - 1\nPA II Train accuracy: 0.7072649572649573\nPA II Test accuracy: 0.7186147186147186\nIteration - 2\nPA II Train accuracy: 0.7264957264957265\nPA II Test accuracy: 0.7359307359307359\nIteration - 10\nPA II Train accuracy: 0.7350427350427351\nPA II Test accuracy: 0.7402597402597403\n"
     ]
    }
   ],
   "source": [
    "for n_iter in [1,2,10]:\n",
    "    # Training \n",
    "    w = PA_algorithm(X_train,Y_train,passive_aggressive_2,n_iter,c=1)\n",
    "    # Compute accuracy of training set\n",
    "    Y_train_pred = np.sign(np.dot(w.T, X_train.T))\n",
    "    count = np.count_nonzero(Y_train_pred + Y_train) # correct count\n",
    "    print('Iteration -',n_iter)\n",
    "    print('PA II Train accuracy: {}'.format(float(count) / X_train.shape[0]))\n",
    "\n",
    "    # Compute accuracy of test set\n",
    "    Y_pred = np.sign(np.dot(w.T, X_test.T))\n",
    "    c = np.count_nonzero(Y_pred + Y_test)   # correct count\n",
    "\n",
    "    print('PA II Test accuracy: {}'.format( float(c) / X_test.shape[0]))"
   ]
  },
  {
   "source": [
    "## Conclusion\n",
    "\n",
    "PA II variant gave  imporvemnet in test accuracy over PA I varinat. Overall in all variants test accuracy is greater than train accuracy. This can happen due to distribution issue in the dataset occur with class imbalance in train test split. When spliting test and train datasets I have used shuffle = True default in train_test_spilt_funtion(). "
   ],
   "cell_type": "markdown",
   "metadata": {}
  }
 ]
}