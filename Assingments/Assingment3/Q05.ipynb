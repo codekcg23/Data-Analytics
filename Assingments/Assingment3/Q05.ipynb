{
 "metadata": {
  "language_info": {
   "codemirror_mode": {
    "name": "ipython",
    "version": 3
   },
   "file_extension": ".py",
   "mimetype": "text/x-python",
   "name": "python",
   "nbconvert_exporter": "python",
   "pygments_lexer": "ipython3",
   "version": "3.7.6"
  },
  "orig_nbformat": 4,
  "kernelspec": {
   "name": "python3",
   "display_name": "Python 3.7.6 64-bit ('base': conda)"
  },
  "interpreter": {
   "hash": "fbbb7d2143a1d68e1cf272edf0974e702b621cb99b4ee39ce84db3bf0ffb588e"
  }
 },
 "nbformat": 4,
 "nbformat_minor": 2,
 "cells": [
  {
   "source": [
    "# Asssingment 03\n",
    "## Question 05- Support Vector Machine with Gradient\n",
    "## Index Number - 17000475\n",
    "### Youtube Link -"
   ],
   "cell_type": "markdown",
   "metadata": {}
  },
  {
   "source": [
    "## SVM Implementation"
   ],
   "cell_type": "markdown",
   "metadata": {}
  },
  {
   "cell_type": "code",
   "execution_count": 93,
   "metadata": {},
   "outputs": [],
   "source": [
    "\"\"\"\n",
    "alpha = learing rate\n",
    "C = reggularization strength\n",
    "n_iter = number of iterations\n",
    "\"\"\"\n",
    "def svm_algo(X,Y,alpha, n_iter,C):\n",
    "    w = np.zeros(X.shape[1]) \n",
    "    j=0\n",
    "    prev_cost = float(\"inf\")\n",
    "    for n in range(n_iter):\n",
    "        for i in range(X.shape[0]):\n",
    "            dw = calculate_cost_gradient(w ,X[i], Y[i],C)\n",
    "            w = w - alpha*dw\n",
    "\n",
    "         # stop when algo no longer ocnverge\n",
    "        if n == 2 ** j or n == n_iter - 1:\n",
    "            cost = cost_function(w,X,Y,C)\n",
    "            print(\"Iteration is:{} and Cost is: {}\".format(n, cost))\n",
    "            # stopping condition\n",
    "            if abs(prev_cost - cost) < 0.01 * prev_cost:  \n",
    "                return w\n",
    "            prev_cost = cost\n",
    "            j+=1\n",
    "    return w\n"
   ]
  },
  {
   "cell_type": "code",
   "execution_count": 94,
   "metadata": {},
   "outputs": [],
   "source": [
    "def cost_function(w,X,Y,C):        # f(x)\n",
    "    \n",
    "    distances = 1 - Y * (np.dot(X, w))\n",
    "    distances[distances < 0] = 0  \n",
    "    #hinge_loss = reg_strength * (np.sum(max(0,1 - Y * (np.dot(X, w)))) / X.shape[0])\n",
    "    hinge_loss = C * (np.sum(distances) / X.shape[0])\n",
    "    # calculate cost\n",
    "    cost = 1 / 2 * np.dot(w, w) + hinge_loss\n",
    "    return cost"
   ]
  },
  {
   "cell_type": "code",
   "execution_count": 95,
   "metadata": {},
   "outputs": [],
   "source": [
    "def calculate_cost_gradient(w,x,y,C):\n",
    "    # one example passed\n",
    "    #print('x',x.shape)\n",
    "    #print('y',y.shape)\n",
    "    if type(y) == np.float64 :\n",
    "        y = np.array([y])\n",
    "        x = np.array([x])\n",
    "    distance = 1- (y*np.dot(x,w))\n",
    "    dw = np.zeros(len(w))\n",
    "    #print(distance)\n",
    "    #for j in range(distance.shape[0]):\n",
    "    if max(0,distance) == 0 :     # hinge loss condition\n",
    "        di = w\n",
    "    else:\n",
    "        di = w-(C*y*x)\n",
    "    dw = dw+ di\n",
    "    #dw = dw/len(y)\n",
    "    return dw\n"
   ]
  },
  {
   "source": [
    "## Breast Cancer Dataset - Preprocessing"
   ],
   "cell_type": "markdown",
   "metadata": {}
  },
  {
   "cell_type": "code",
   "execution_count": 96,
   "metadata": {},
   "outputs": [],
   "source": [
    "import numpy as np \n",
    "import pandas as pd "
   ]
  },
  {
   "cell_type": "code",
   "execution_count": 97,
   "metadata": {},
   "outputs": [
    {
     "output_type": "execute_result",
     "data": {
      "text/plain": [
       "        0   1   2   3   4   5   6   7   8   9   10\n",
       "0  1000025   5   1   1   1   2   1   3   1   1   2\n",
       "1  1002945   5   4   4   5   7  10   3   2   1   2\n",
       "2  1015425   3   1   1   1   2   2   3   1   1   2\n",
       "3  1016277   6   8   8   1   3   4   3   7   1   2\n",
       "4  1017023   4   1   1   3   2   1   3   1   1   2"
      ],
      "text/html": "<div>\n<style scoped>\n    .dataframe tbody tr th:only-of-type {\n        vertical-align: middle;\n    }\n\n    .dataframe tbody tr th {\n        vertical-align: top;\n    }\n\n    .dataframe thead th {\n        text-align: right;\n    }\n</style>\n<table border=\"1\" class=\"dataframe\">\n  <thead>\n    <tr style=\"text-align: right;\">\n      <th></th>\n      <th>0</th>\n      <th>1</th>\n      <th>2</th>\n      <th>3</th>\n      <th>4</th>\n      <th>5</th>\n      <th>6</th>\n      <th>7</th>\n      <th>8</th>\n      <th>9</th>\n      <th>10</th>\n    </tr>\n  </thead>\n  <tbody>\n    <tr>\n      <th>0</th>\n      <td>1000025</td>\n      <td>5</td>\n      <td>1</td>\n      <td>1</td>\n      <td>1</td>\n      <td>2</td>\n      <td>1</td>\n      <td>3</td>\n      <td>1</td>\n      <td>1</td>\n      <td>2</td>\n    </tr>\n    <tr>\n      <th>1</th>\n      <td>1002945</td>\n      <td>5</td>\n      <td>4</td>\n      <td>4</td>\n      <td>5</td>\n      <td>7</td>\n      <td>10</td>\n      <td>3</td>\n      <td>2</td>\n      <td>1</td>\n      <td>2</td>\n    </tr>\n    <tr>\n      <th>2</th>\n      <td>1015425</td>\n      <td>3</td>\n      <td>1</td>\n      <td>1</td>\n      <td>1</td>\n      <td>2</td>\n      <td>2</td>\n      <td>3</td>\n      <td>1</td>\n      <td>1</td>\n      <td>2</td>\n    </tr>\n    <tr>\n      <th>3</th>\n      <td>1016277</td>\n      <td>6</td>\n      <td>8</td>\n      <td>8</td>\n      <td>1</td>\n      <td>3</td>\n      <td>4</td>\n      <td>3</td>\n      <td>7</td>\n      <td>1</td>\n      <td>2</td>\n    </tr>\n    <tr>\n      <th>4</th>\n      <td>1017023</td>\n      <td>4</td>\n      <td>1</td>\n      <td>1</td>\n      <td>3</td>\n      <td>2</td>\n      <td>1</td>\n      <td>3</td>\n      <td>1</td>\n      <td>1</td>\n      <td>2</td>\n    </tr>\n  </tbody>\n</table>\n</div>"
     },
     "metadata": {},
     "execution_count": 97
    }
   ],
   "source": [
    "df = pd.read_csv('datafile.csv',header = None)\n",
    "df.head()"
   ]
  },
  {
   "cell_type": "code",
   "execution_count": 98,
   "metadata": {},
   "outputs": [
    {
     "output_type": "execute_result",
     "data": {
      "text/plain": [
       "Empty DataFrame\n",
       "Columns: [0, 1, 2, 3, 4, 5, 6, 7, 8, 9, 10]\n",
       "Index: []"
      ],
      "text/html": "<div>\n<style scoped>\n    .dataframe tbody tr th:only-of-type {\n        vertical-align: middle;\n    }\n\n    .dataframe tbody tr th {\n        vertical-align: top;\n    }\n\n    .dataframe thead th {\n        text-align: right;\n    }\n</style>\n<table border=\"1\" class=\"dataframe\">\n  <thead>\n    <tr style=\"text-align: right;\">\n      <th></th>\n      <th>0</th>\n      <th>1</th>\n      <th>2</th>\n      <th>3</th>\n      <th>4</th>\n      <th>5</th>\n      <th>6</th>\n      <th>7</th>\n      <th>8</th>\n      <th>9</th>\n      <th>10</th>\n    </tr>\n  </thead>\n  <tbody>\n  </tbody>\n</table>\n</div>"
     },
     "metadata": {},
     "execution_count": 98
    }
   ],
   "source": [
    " #replace ? mark  with 0\n",
    " df = df.replace([\"?\"],0)\n",
    " #check whether it's removed\n",
    "df[df.eq(\"?\").any(1)]"
   ]
  },
  {
   "cell_type": "code",
   "execution_count": 99,
   "metadata": {},
   "outputs": [],
   "source": [
    "# drop id column\n",
    "df.drop([0],axis=1,inplace = True)\n",
    "# replace class column 10 th column 2, 4 value with -1 and, +1\n",
    "df[10] = df[10].map({2:-1,4:+1})"
   ]
  },
  {
   "cell_type": "code",
   "execution_count": 100,
   "metadata": {},
   "outputs": [
    {
     "output_type": "stream",
     "name": "stdout",
     "text": [
      "[[ 5  1  1 ...  3  1  1]\n [ 5  4  4 ...  3  2  1]\n [ 3  1  1 ...  3  1  1]\n ...\n [ 5 10 10 ...  8 10  2]\n [ 4  8  6 ... 10  6  1]\n [ 4  8  8 ... 10  4  1]]\n(699, 9)\n[-1 -1 -1 -1 -1  1 -1 -1 -1 -1 -1 -1  1 -1  1  1 -1 -1  1 -1  1  1 -1  1\n -1  1 -1 -1 -1 -1 -1 -1  1 -1 -1 -1  1 -1  1  1 -1  1  1  1  1 -1  1 -1\n -1  1  1  1  1  1  1  1  1  1  1  1  1 -1  1  1 -1  1 -1  1  1 -1 -1  1\n -1  1  1 -1 -1 -1 -1 -1 -1 -1 -1 -1  1  1  1  1 -1 -1 -1 -1 -1 -1 -1 -1\n -1 -1  1  1  1  1 -1  1  1  1  1  1 -1  1 -1  1  1  1 -1 -1 -1  1 -1 -1\n -1 -1  1  1  1 -1  1 -1  1 -1 -1 -1  1 -1 -1 -1 -1 -1 -1 -1 -1 -1  1 -1\n -1 -1  1 -1 -1  1 -1  1  1 -1 -1  1 -1 -1 -1  1  1 -1 -1 -1 -1 -1  1  1\n -1 -1 -1 -1 -1  1  1  1 -1  1 -1  1 -1 -1 -1  1  1 -1  1  1  1 -1  1  1\n -1 -1 -1 -1 -1 -1 -1 -1  1  1 -1 -1 -1  1  1 -1 -1 -1  1  1 -1  1  1  1\n -1 -1  1 -1 -1  1  1  1  1 -1  1  1 -1  1  1  1 -1  1 -1 -1  1  1  1  1\n -1 -1 -1 -1 -1 -1  1  1 -1 -1 -1  1 -1  1  1  1 -1 -1 -1 -1  1  1  1  1\n  1 -1  1  1  1 -1  1 -1  1  1 -1 -1 -1 -1 -1  1 -1 -1  1  1  1  1  1 -1\n  1  1 -1 -1  1  1 -1  1 -1 -1 -1  1  1 -1  1 -1  1  1 -1 -1  1 -1 -1 -1\n  1 -1 -1 -1  1  1 -1 -1  1 -1 -1  1 -1 -1  1 -1  1  1  1 -1 -1  1  1 -1\n  1 -1 -1  1  1 -1 -1 -1  1 -1 -1 -1  1  1 -1 -1 -1  1 -1 -1  1  1  1  1\n  1  1 -1 -1 -1 -1  1  1 -1 -1 -1 -1 -1 -1 -1 -1 -1 -1 -1 -1 -1  1 -1 -1\n -1 -1  1 -1 -1 -1 -1  1 -1 -1 -1 -1 -1 -1 -1 -1  1 -1 -1 -1 -1 -1 -1 -1\n -1 -1 -1 -1  1 -1  1 -1  1 -1 -1 -1 -1  1 -1 -1 -1  1 -1  1 -1 -1 -1 -1\n -1 -1 -1  1  1 -1 -1 -1  1 -1 -1 -1 -1 -1 -1 -1 -1  1 -1 -1 -1  1 -1  1\n  1  1 -1 -1 -1 -1 -1 -1 -1  1  1  1 -1 -1 -1 -1 -1 -1 -1 -1 -1 -1 -1  1\n -1 -1  1  1 -1 -1 -1  1  1  1 -1  1 -1  1 -1 -1 -1 -1 -1 -1 -1 -1 -1 -1\n -1 -1  1 -1 -1 -1 -1 -1 -1 -1  1  1 -1 -1 -1  1 -1 -1  1  1 -1 -1 -1 -1\n -1 -1  1 -1 -1 -1 -1 -1 -1 -1 -1 -1 -1 -1 -1 -1 -1 -1  1 -1 -1  1 -1 -1\n -1 -1 -1 -1 -1 -1 -1 -1 -1 -1 -1 -1 -1  1 -1 -1  1  1  1  1 -1 -1  1 -1\n -1 -1 -1 -1 -1  1  1 -1 -1 -1  1 -1  1 -1  1  1  1 -1  1 -1 -1 -1 -1 -1\n -1 -1 -1  1  1  1 -1 -1  1 -1  1  1  1 -1 -1 -1 -1 -1 -1 -1 -1 -1 -1 -1\n -1 -1  1 -1 -1 -1 -1 -1 -1  1 -1 -1  1 -1 -1 -1 -1 -1 -1 -1 -1 -1 -1 -1\n  1 -1 -1 -1 -1 -1 -1 -1 -1 -1  1 -1 -1 -1 -1 -1 -1 -1 -1 -1  1  1  1 -1\n -1 -1 -1 -1 -1 -1 -1 -1  1  1 -1 -1 -1 -1 -1 -1 -1 -1 -1  1 -1 -1 -1 -1\n  1  1  1]\n(699,)\n"
     ]
    }
   ],
   "source": [
    "X = df[:].drop(10,axis=1).to_numpy(dtype='int')\n",
    "print(X)\n",
    "print(X.shape)\n",
    "Y = df[:].pop(10).to_numpy(dtype='int')\n",
    "print(Y)\n",
    "print(Y.shape)"
   ]
  },
  {
   "cell_type": "code",
   "execution_count": 101,
   "metadata": {},
   "outputs": [
    {
     "output_type": "execute_result",
     "data": {
      "text/plain": [
       "(699, 10)"
      ]
     },
     "metadata": {},
     "execution_count": 101
    }
   ],
   "source": [
    "# add column of 1 as b value intercept as refering to tutorial\n",
    "n = X.shape[0]\n",
    "X= np.hstack((X,np.ones((n,1))))\n",
    "X.shape"
   ]
  },
  {
   "source": [
    "## Train Test Split"
   ],
   "cell_type": "markdown",
   "metadata": {}
  },
  {
   "cell_type": "code",
   "execution_count": 102,
   "metadata": {},
   "outputs": [],
   "source": [
    "# Train test split\n",
    "from sklearn.model_selection import train_test_split\n",
    "X_train, X_test, Y_train, Y_test = train_test_split(X, Y, test_size=0.33,random_state=200)"
   ]
  },
  {
   "source": [
    "## Prediction"
   ],
   "cell_type": "markdown",
   "metadata": {}
  },
  {
   "cell_type": "code",
   "execution_count": 103,
   "metadata": {
    "tags": []
   },
   "outputs": [
    {
     "output_type": "stream",
     "name": "stdout",
     "text": [
      "Iteration is:1 and Cost is: 2395.940328953253\n",
      "Iteration is:2 and Cost is: 2194.2163800872886\n",
      "Iteration is:4 and Cost is: 1420.9915607167839\n",
      "Iteration is:8 and Cost is: 1025.1164487048768\n",
      "Iteration is:16 and Cost is: 824.635722493646\n",
      "Iteration is:32 and Cost is: 741.6394743616029\n",
      "Iteration is:64 and Cost is: 616.8387736086553\n",
      "Iteration is:99 and Cost is: 564.4976291413645\n",
      "Train accuracy: 0.9829059829059829\n",
      "Test accuracy: 0.9567099567099567\n"
     ]
    }
   ],
   "source": [
    "# Training \n",
    "w = svm_algo(X_train,Y_train,0.000001,100,10000)\n",
    "# Compute accuracy of training set\n",
    "Y_train_pred = np.sign(np.dot(X_train,w))\n",
    "count_train = np.count_nonzero(Y_train_pred + Y_train) # correct count\n",
    "\n",
    "print('Train accuracy: {}'.format(float(count_train) / X_train.shape[0]))\n",
    "\n",
    "# Compute accuracy of test set\n",
    "Y_test_pred = np.sign(np.dot(X_test,w))\n",
    "count_test = np.count_nonzero(Y_test_pred + Y_test)   # correct count\n",
    "\n",
    "print('Test accuracy: {}'.format( float(count_test) / X_test.shape[0]))"
   ]
  },
  {
   "source": [
    "## Conclusion\n",
    "Support vector Machine gave good accuracy than passive aggressive classifier used in Quesion 1. Here I got 98.3% accuracy for training set and 95.6% accuracy for testing set. Considerably a good result for test accuracy."
   ],
   "cell_type": "markdown",
   "metadata": {}
  }
 ]
}