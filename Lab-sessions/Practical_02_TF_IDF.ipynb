{
  "nbformat": 4,
  "nbformat_minor": 0,
  "metadata": {
    "colab": {
      "name": "Practical 02 - TF-IDF",
      "provenance": []
    },
    "kernelspec": {
      "name": "python3",
      "display_name": "Python 3"
    },
    "language_info": {
      "name": "python"
    }
  },
  "cells": [
    {
      "cell_type": "markdown",
      "metadata": {
        "id": "cmBbuQplJPTm"
      },
      "source": [
        "#Let's code TF-IDF"
      ]
    },
    {
      "cell_type": "markdown",
      "metadata": {
        "id": "bzSTKqkPylwU"
      },
      "source": [
        "**Four Documents use in this tutorial**\n",
        "\n",
        ">doc1: \"The sky is blue\"\n",
        "\n",
        ">doc2: \"The sun is bright today.\"\n",
        "\n",
        ">doc3: \"The sun in the sky is bright.\"\n",
        "\n",
        ">doc4: \"We can see the shining sun, the bright sun.\"\n"
      ]
    },
    {
      "cell_type": "markdown",
      "metadata": {
        "id": "-mfwuH37HMR4"
      },
      "source": [
        "##From the Scratch"
      ]
    },
    {
      "cell_type": "code",
      "metadata": {
        "id": "ACqN861Bbyxg"
      },
      "source": [
        "#the sentences(documnets) used to calculate the TF-IDF\n",
        "doc1 = \"the sky is blue\"\n",
        "\n",
        "doc2 = \"the sun is bright today\"\n",
        "\n",
        "doc3 = \"the sun in the sky is bright\"\n",
        "\n",
        "doc4 = \"we can see the shining sun the bright sun\"\n"
      ],
      "execution_count": null,
      "outputs": []
    },
    {
      "cell_type": "code",
      "metadata": {
        "id": "Iczk43x4c66J"
      },
      "source": [
        "#split the sentences in to words and assign the list to bow(bag of word) variables\n",
        "bow1 = doc1.split(\" \")\n",
        "bow2 = doc2.split(\" \")\n",
        "bow3 = doc3.split(\" \")\n",
        "bow4 = doc4.split(\" \")"
      ],
      "execution_count": null,
      "outputs": []
    },
    {
      "cell_type": "code",
      "metadata": {
        "colab": {
          "base_uri": "https://localhost:8080/"
        },
        "id": "oE6bMbYWc98U",
        "outputId": "8d072d0e-9cf6-4a60-8c0a-900b175631ae"
      },
      "source": [
        "print (bow1, bow2, bow3, bow4)"
      ],
      "execution_count": null,
      "outputs": [
        {
          "output_type": "stream",
          "text": [
            "['the', 'sky', 'is', 'blue'] ['the', 'sun', 'is', 'bright', 'today'] ['the', 'sun', 'in', 'the', 'sky', 'is', 'bright'] ['we', 'can', 'see', 'the', 'shining', 'sun', 'the', 'bright', 'sun']\n"
          ],
          "name": "stdout"
        }
      ]
    },
    {
      "cell_type": "code",
      "metadata": {
        "id": "kkcO1RzCc_zK"
      },
      "source": [
        "#The union() method returns a set that contains all items from the original set, and all items from the specified set(s).\n",
        "#If an item is present in more than one set, the result will contain only one appearance of this item.\n",
        "wordSet = set(bow1).union(set(bow2),set(bow3),set(bow4))"
      ],
      "execution_count": 122,
      "outputs": []
    },
    {
      "cell_type": "code",
      "metadata": {
        "colab": {
          "base_uri": "https://localhost:8080/",
          "height": 0
        },
        "id": "C0fE_IKSdBag",
        "outputId": "b5ca58e8-a045-4d44-b0c2-4bc9db0a4e7a"
      },
      "source": [
        "#lets view the wordSet created using union fuction with uniqe words of abve 4 sentences\n",
        "wordSet"
      ],
      "execution_count": 123,
      "outputs": [
        {
          "output_type": "execute_result",
          "data": {
            "text/plain": [
              "{'blue',\n",
              " 'bright',\n",
              " 'can',\n",
              " 'in',\n",
              " 'is',\n",
              " 'see',\n",
              " 'shining',\n",
              " 'sky',\n",
              " 'sun',\n",
              " 'the',\n",
              " 'today',\n",
              " 'we'}"
            ]
          },
          "metadata": {
            "tags": []
          },
          "execution_count": 123
        }
      ]
    },
    {
      "cell_type": "markdown",
      "metadata": {
        "id": "j2o7xR27cwAx"
      },
      "source": [
        "**Dictionaries** are Python’s implementation of a data structure that is more generally known as an associative array. A dictionary consists of a collection of key-value pairs. Each key-value pair maps the key to its associated value.\n",
        "\n",
        "You can define a dictionary by enclosing a comma-separated list of key-value pairs in curly braces ({}). A colon (:) separates each key from its associated value:\n",
        "\n",
        "![image.png](data:image/png;base64,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)"
      ]
    },
    {
      "cell_type": "code",
      "metadata": {
        "id": "K2pfyI0GdH5x"
      },
      "source": [
        "#Let's create 4 dictionaries to hold the terms(words) in wordSet and the count of those words appear in each and every sentences(documents) considered above\n",
        "#Let's initialise the count of all words to 0 first\n",
        "wordDict1 = dict.fromkeys(wordSet, 0) \n",
        "wordDict2 = dict.fromkeys(wordSet, 0)\n",
        "wordDict3 = dict.fromkeys(wordSet, 0)\n",
        "wordDict4 = dict.fromkeys(wordSet, 0)"
      ],
      "execution_count": null,
      "outputs": []
    },
    {
      "cell_type": "code",
      "metadata": {
        "colab": {
          "base_uri": "https://localhost:8080/"
        },
        "id": "U2gEVOEPdK8g",
        "outputId": "478387c3-0e5d-4e0d-d7e7-a8a2b4a8afa3"
      },
      "source": [
        "#Let's view wordDict1 we created using above code to get an idea about the dictionary we created\n",
        "#That dictionary contain all the words we uniquely identified using union function above \n",
        "wordDict1"
      ],
      "execution_count": null,
      "outputs": [
        {
          "output_type": "execute_result",
          "data": {
            "text/plain": [
              "{'blue': 0,\n",
              " 'bright': 0,\n",
              " 'can': 0,\n",
              " 'in': 0,\n",
              " 'is': 0,\n",
              " 'see': 0,\n",
              " 'shining': 0,\n",
              " 'sky': 0,\n",
              " 'sun': 0,\n",
              " 'the': 0,\n",
              " 'today': 0,\n",
              " 'we': 0}"
            ]
          },
          "metadata": {
            "tags": []
          },
          "execution_count": 105
        }
      ]
    },
    {
      "cell_type": "code",
      "metadata": {
        "id": "SRyhLbF6dOFt"
      },
      "source": [
        "#Now we will get the count of each word appear in each sentence seperately and update the dictionaries respecte to the sentence\n",
        "#eg: for the sentence1 (doc1) we take the count and update wordDict1 dictionary.\n",
        "for word in bow1:\n",
        "    wordDict1[word]+=1\n",
        "    \n",
        "for word in bow2:\n",
        "    wordDict2[word]+=1\n",
        "\n",
        "for word in bow3:\n",
        "    wordDict3[word]+=1\n",
        "\n",
        "for word in bow4:\n",
        "    wordDict4[word]+=1"
      ],
      "execution_count": null,
      "outputs": []
    },
    {
      "cell_type": "code",
      "metadata": {
        "colab": {
          "base_uri": "https://localhost:8080/",
          "height": 0
        },
        "id": "0Pc3UfYgdRSH",
        "outputId": "915859b9-1e80-44e6-c29a-fd399802a6ac"
      },
      "source": [
        "#Let's view the wordDict1 to get an idea\n",
        "wordDict1"
      ],
      "execution_count": 124,
      "outputs": [
        {
          "output_type": "execute_result",
          "data": {
            "text/plain": [
              "{'blue': 1,\n",
              " 'bright': 0,\n",
              " 'can': 0,\n",
              " 'in': 0,\n",
              " 'is': 1,\n",
              " 'see': 0,\n",
              " 'shining': 0,\n",
              " 'sky': 1,\n",
              " 'sun': 0,\n",
              " 'the': 1,\n",
              " 'today': 0,\n",
              " 'we': 0}"
            ]
          },
          "metadata": {
            "tags": []
          },
          "execution_count": 124
        }
      ]
    },
    {
      "cell_type": "markdown",
      "metadata": {
        "id": "jTy2Fj5lckd2"
      },
      "source": [
        "**Pandas** is an open source Python package that is most widely used for data science/data analysis and machine learning tasks. It is built on top of another package named Numpy, which provides support for multi-dimensional arrays. As one of the most popular data wrangling packages, Pandas works well with many other data science modules inside the Python ecosystem, and is typically included in every Python distribution, from those that come with your operating system to commercial vendor distributions like ActiveState’s ActivePython. \n",
        "Pandas makes it simple to do many of the time consuming, repetitive tasks associated with working with data, including:\n",
        "\n",
        "* Data cleansing\n",
        "* Data fill\n",
        "* Data normalization\n",
        "* Merges and joins\n",
        "* Data visualization\n",
        "* Statistical analysis\n",
        "* Data inspection\n",
        "* Loading and saving data and much more"
      ]
    },
    {
      "cell_type": "code",
      "metadata": {
        "id": "Et1mLTC8dS5D",
        "colab": {
          "base_uri": "https://localhost:8080/",
          "height": 173
        },
        "outputId": "bbbc6066-b63e-499a-a71c-be05489d5f10"
      },
      "source": [
        "import pandas as pd\n",
        "#Using pandas library create a dataframe(table) using the dictionaries created above to visualise the data with the frequency of each word appear in each sentences\n",
        "pd.DataFrame([wordDict1, wordDict2, wordDict3, wordDict4])"
      ],
      "execution_count": 125,
      "outputs": [
        {
          "output_type": "execute_result",
          "data": {
            "text/html": [
              "<div>\n",
              "<style scoped>\n",
              "    .dataframe tbody tr th:only-of-type {\n",
              "        vertical-align: middle;\n",
              "    }\n",
              "\n",
              "    .dataframe tbody tr th {\n",
              "        vertical-align: top;\n",
              "    }\n",
              "\n",
              "    .dataframe thead th {\n",
              "        text-align: right;\n",
              "    }\n",
              "</style>\n",
              "<table border=\"1\" class=\"dataframe\">\n",
              "  <thead>\n",
              "    <tr style=\"text-align: right;\">\n",
              "      <th></th>\n",
              "      <th>blue</th>\n",
              "      <th>see</th>\n",
              "      <th>today</th>\n",
              "      <th>the</th>\n",
              "      <th>can</th>\n",
              "      <th>sun</th>\n",
              "      <th>in</th>\n",
              "      <th>is</th>\n",
              "      <th>we</th>\n",
              "      <th>sky</th>\n",
              "      <th>bright</th>\n",
              "      <th>shining</th>\n",
              "    </tr>\n",
              "  </thead>\n",
              "  <tbody>\n",
              "    <tr>\n",
              "      <th>0</th>\n",
              "      <td>1</td>\n",
              "      <td>0</td>\n",
              "      <td>0</td>\n",
              "      <td>1</td>\n",
              "      <td>0</td>\n",
              "      <td>0</td>\n",
              "      <td>0</td>\n",
              "      <td>1</td>\n",
              "      <td>0</td>\n",
              "      <td>1</td>\n",
              "      <td>0</td>\n",
              "      <td>0</td>\n",
              "    </tr>\n",
              "    <tr>\n",
              "      <th>1</th>\n",
              "      <td>0</td>\n",
              "      <td>0</td>\n",
              "      <td>1</td>\n",
              "      <td>1</td>\n",
              "      <td>0</td>\n",
              "      <td>1</td>\n",
              "      <td>0</td>\n",
              "      <td>1</td>\n",
              "      <td>0</td>\n",
              "      <td>0</td>\n",
              "      <td>1</td>\n",
              "      <td>0</td>\n",
              "    </tr>\n",
              "    <tr>\n",
              "      <th>2</th>\n",
              "      <td>0</td>\n",
              "      <td>0</td>\n",
              "      <td>0</td>\n",
              "      <td>2</td>\n",
              "      <td>0</td>\n",
              "      <td>1</td>\n",
              "      <td>1</td>\n",
              "      <td>1</td>\n",
              "      <td>0</td>\n",
              "      <td>1</td>\n",
              "      <td>1</td>\n",
              "      <td>0</td>\n",
              "    </tr>\n",
              "    <tr>\n",
              "      <th>3</th>\n",
              "      <td>0</td>\n",
              "      <td>1</td>\n",
              "      <td>0</td>\n",
              "      <td>2</td>\n",
              "      <td>1</td>\n",
              "      <td>2</td>\n",
              "      <td>0</td>\n",
              "      <td>0</td>\n",
              "      <td>1</td>\n",
              "      <td>0</td>\n",
              "      <td>1</td>\n",
              "      <td>1</td>\n",
              "    </tr>\n",
              "  </tbody>\n",
              "</table>\n",
              "</div>"
            ],
            "text/plain": [
              "   blue  see  today  the  can  sun  in  is  we  sky  bright  shining\n",
              "0     1    0      0    1    0    0   0   1   0    1       0        0\n",
              "1     0    0      1    1    0    1   0   1   0    0       1        0\n",
              "2     0    0      0    2    0    1   1   1   0    1       1        0\n",
              "3     0    1      0    2    1    2   0   0   1    0       1        1"
            ]
          },
          "metadata": {
            "tags": []
          },
          "execution_count": 125
        }
      ]
    },
    {
      "cell_type": "markdown",
      "metadata": {
        "id": "THYULxaYh0jK"
      },
      "source": [
        "Let's define a function to compute the *Term Frequency(TF)*.\n",
        "\n",
        "This function can get 2 input parameters as, *wordDict* and *bow*\n",
        "\n",
        "First we create a new dictionary variable(*tfDict*) to hold the data related to the term Frequency values\n",
        "\n",
        "Take the count of the terms in a perticular sentence and save it inside *bowCount* variable\n",
        "\n",
        "Then using a for loop iterate throgh *wordDict items*, and update the TF value for each word in wordDict dictionary,\n",
        "\n",
        "TF = No. times the word occure in the text(document/doc1)/ Total No. words in the text(bowCount)\n",
        "\n",
        "At the end this function will return the dictionary with the TF values of the given sentence(document)\n"
      ]
    },
    {
      "cell_type": "code",
      "metadata": {
        "id": "zg00BP0xdU5Y"
      },
      "source": [
        "def computeTF(wordDict, bow):\n",
        "    tfDict = {}\n",
        "    bowCount = len(bow)\n",
        "    for word, count in wordDict.items():\n",
        "        tfDict[word] = count/float(bowCount)\n",
        "    return tfDict"
      ],
      "execution_count": null,
      "outputs": []
    },
    {
      "cell_type": "code",
      "metadata": {
        "id": "SJM475LtdW6J"
      },
      "source": [
        "#Copute the TF values for each sentence\n",
        "tfBow1 = computeTF(wordDict1, bow1)\n",
        "tfBow2 = computeTF(wordDict2, bow2)\n",
        "tfBow3 = computeTF(wordDict3, bow3)\n",
        "tfBow4 = computeTF(wordDict4, bow4)"
      ],
      "execution_count": null,
      "outputs": []
    },
    {
      "cell_type": "code",
      "metadata": {
        "colab": {
          "base_uri": "https://localhost:8080/"
        },
        "id": "ct5Y-_vgdY8Y",
        "outputId": "5b48d14f-3ef6-440a-a7f7-84ca31f52bfc"
      },
      "source": [
        "#Let's view the term frequency values of tfBow1\n",
        "tfBow1"
      ],
      "execution_count": null,
      "outputs": [
        {
          "output_type": "execute_result",
          "data": {
            "text/plain": [
              "{'blue': 0.25,\n",
              " 'bright': 0.0,\n",
              " 'can': 0.0,\n",
              " 'in': 0.0,\n",
              " 'is': 0.25,\n",
              " 'see': 0.0,\n",
              " 'shining': 0.0,\n",
              " 'sky': 0.25,\n",
              " 'sun': 0.0,\n",
              " 'the': 0.25,\n",
              " 'today': 0.0,\n",
              " 'we': 0.0}"
            ]
          },
          "metadata": {
            "tags": []
          },
          "execution_count": 111
        }
      ]
    },
    {
      "cell_type": "code",
      "metadata": {
        "colab": {
          "base_uri": "https://localhost:8080/"
        },
        "id": "ljSDMAx-dah0",
        "outputId": "024026ff-15cc-4d29-f27f-4354a70d8c26"
      },
      "source": [
        "#Let's view the term frequency values of tfBow2\n",
        "tfBow2"
      ],
      "execution_count": null,
      "outputs": [
        {
          "output_type": "execute_result",
          "data": {
            "text/plain": [
              "{'blue': 0.0,\n",
              " 'bright': 0.2,\n",
              " 'can': 0.0,\n",
              " 'in': 0.0,\n",
              " 'is': 0.2,\n",
              " 'see': 0.0,\n",
              " 'shining': 0.0,\n",
              " 'sky': 0.0,\n",
              " 'sun': 0.2,\n",
              " 'the': 0.2,\n",
              " 'today': 0.2,\n",
              " 'we': 0.0}"
            ]
          },
          "metadata": {
            "tags": []
          },
          "execution_count": 112
        }
      ]
    },
    {
      "cell_type": "markdown",
      "metadata": {
        "id": "6QxpdSr6q4OK"
      },
      "source": [
        "Let's create a function to calculate the Inverse Document Frequency,\n",
        "\n",
        "Take one input parameter as docList which contain all the documents(Doc1,Doc2, Doc3,Doc4) that we consider as a list.\n",
        "\n",
        "Create a dictionary to hold the IDF values. \n",
        "\n",
        "Take the number of documents using len function and save it in 'N' variable\n",
        "\n",
        "Using the first for loop we traverse through all the documents in the doclist and inner for loop in first for loop will traverse through the words in word dictionaries of those documents (wordDicts) and count the documents contain specific word in it and save it in 'val' varialble \n",
        "\n",
        "Using the second for loop we calculate the values of Inverse Document Frequency\n",
        "\n",
        ">IDF = log(Total No. of documents/ No. Documents which contain specific word in it)\n",
        "\n",
        "Finally this function will return the dictionary with the words and its IDF values."
      ]
    },
    {
      "cell_type": "code",
      "metadata": {
        "id": "RF5Cr-JoddDt"
      },
      "source": [
        "def computeIDF(docList):\n",
        "    import math\n",
        "    idfDict = {}\n",
        "    N = len(docList)\n",
        "    idfDict = dict.fromkeys(docList[0].keys(), 0)\n",
        "    for doc in docList:\n",
        "        for word, val in doc.items():\n",
        "            if val > 0:\n",
        "                idfDict[word] += 1\n",
        "    \n",
        "    for word, val in idfDict.items():\n",
        "        idfDict[word] = math.log10(N / float(val))\n",
        "        \n",
        "    return idfDict"
      ],
      "execution_count": 130,
      "outputs": []
    },
    {
      "cell_type": "code",
      "metadata": {
        "id": "cAjZu1XsdffS"
      },
      "source": [
        "#Lets use the computeIDF function to compute IDF\n",
        "idfs = computeIDF([wordDict1, wordDict2, wordDict3, wordDict4])"
      ],
      "execution_count": 131,
      "outputs": []
    },
    {
      "cell_type": "code",
      "metadata": {
        "colab": {
          "base_uri": "https://localhost:8080/",
          "height": 0
        },
        "id": "N8GmEdXty47a",
        "outputId": "90e3fc3f-398c-4a88-8781-a2ed41ca9c78"
      },
      "source": [
        "#Lets view the dictionary we created using above function to get some idea\n",
        "idfs"
      ],
      "execution_count": 132,
      "outputs": [
        {
          "output_type": "execute_result",
          "data": {
            "text/plain": [
              "{'blue': 0.6020599913279624,\n",
              " 'bright': 0.12493873660829992,\n",
              " 'can': 0.6020599913279624,\n",
              " 'in': 0.6020599913279624,\n",
              " 'is': 0.12493873660829992,\n",
              " 'see': 0.6020599913279624,\n",
              " 'shining': 0.6020599913279624,\n",
              " 'sky': 0.3010299956639812,\n",
              " 'sun': 0.12493873660829992,\n",
              " 'the': 0.0,\n",
              " 'today': 0.6020599913279624,\n",
              " 'we': 0.6020599913279624}"
            ]
          },
          "metadata": {
            "tags": []
          },
          "execution_count": 132
        }
      ]
    },
    {
      "cell_type": "code",
      "metadata": {
        "id": "NtmrSA_BdjbD"
      },
      "source": [
        "#This function will calculate the TF*IDF value in a dictionary format\n",
        "def computeTFIDF(tfBow, idfs):\n",
        "    tfidf = {}\n",
        "    for word, val in tfBow.items():\n",
        "        tfidf[word] = val*idfs[word]\n",
        "    return tfidf"
      ],
      "execution_count": null,
      "outputs": []
    },
    {
      "cell_type": "code",
      "metadata": {
        "id": "Av84Cf67dm9z"
      },
      "source": [
        "tfidfBow1 = computeTFIDF(tfBow1, idfs)\n",
        "tfidfBow2 = computeTFIDF(tfBow2, idfs)\n",
        "tfidfBow3 = computeTFIDF(tfBow3, idfs)\n",
        "tfidfBow4 = computeTFIDF(tfBow4, idfs)"
      ],
      "execution_count": null,
      "outputs": []
    },
    {
      "cell_type": "code",
      "metadata": {
        "colab": {
          "base_uri": "https://localhost:8080/",
          "height": 173
        },
        "id": "weqCMBxgdo5C",
        "outputId": "52cc03bb-2daa-4a10-8799-c3695fd5c8bd"
      },
      "source": [
        "pd.DataFrame([tfidfBow1, tfidfBow2, tfidfBow3, tfidfBow4])"
      ],
      "execution_count": null,
      "outputs": [
        {
          "output_type": "execute_result",
          "data": {
            "text/html": [
              "<div>\n",
              "<style scoped>\n",
              "    .dataframe tbody tr th:only-of-type {\n",
              "        vertical-align: middle;\n",
              "    }\n",
              "\n",
              "    .dataframe tbody tr th {\n",
              "        vertical-align: top;\n",
              "    }\n",
              "\n",
              "    .dataframe thead th {\n",
              "        text-align: right;\n",
              "    }\n",
              "</style>\n",
              "<table border=\"1\" class=\"dataframe\">\n",
              "  <thead>\n",
              "    <tr style=\"text-align: right;\">\n",
              "      <th></th>\n",
              "      <th>blue</th>\n",
              "      <th>see</th>\n",
              "      <th>today</th>\n",
              "      <th>the</th>\n",
              "      <th>can</th>\n",
              "      <th>sun</th>\n",
              "      <th>in</th>\n",
              "      <th>is</th>\n",
              "      <th>we</th>\n",
              "      <th>sky</th>\n",
              "      <th>bright</th>\n",
              "      <th>shining</th>\n",
              "    </tr>\n",
              "  </thead>\n",
              "  <tbody>\n",
              "    <tr>\n",
              "      <th>0</th>\n",
              "      <td>0.150515</td>\n",
              "      <td>0.000000</td>\n",
              "      <td>0.000000</td>\n",
              "      <td>0.0</td>\n",
              "      <td>0.000000</td>\n",
              "      <td>0.000000</td>\n",
              "      <td>0.000000</td>\n",
              "      <td>0.031235</td>\n",
              "      <td>0.000000</td>\n",
              "      <td>0.075257</td>\n",
              "      <td>0.000000</td>\n",
              "      <td>0.000000</td>\n",
              "    </tr>\n",
              "    <tr>\n",
              "      <th>1</th>\n",
              "      <td>0.000000</td>\n",
              "      <td>0.000000</td>\n",
              "      <td>0.120412</td>\n",
              "      <td>0.0</td>\n",
              "      <td>0.000000</td>\n",
              "      <td>0.024988</td>\n",
              "      <td>0.000000</td>\n",
              "      <td>0.024988</td>\n",
              "      <td>0.000000</td>\n",
              "      <td>0.000000</td>\n",
              "      <td>0.024988</td>\n",
              "      <td>0.000000</td>\n",
              "    </tr>\n",
              "    <tr>\n",
              "      <th>2</th>\n",
              "      <td>0.000000</td>\n",
              "      <td>0.000000</td>\n",
              "      <td>0.000000</td>\n",
              "      <td>0.0</td>\n",
              "      <td>0.000000</td>\n",
              "      <td>0.017848</td>\n",
              "      <td>0.086009</td>\n",
              "      <td>0.017848</td>\n",
              "      <td>0.000000</td>\n",
              "      <td>0.043004</td>\n",
              "      <td>0.017848</td>\n",
              "      <td>0.000000</td>\n",
              "    </tr>\n",
              "    <tr>\n",
              "      <th>3</th>\n",
              "      <td>0.000000</td>\n",
              "      <td>0.066896</td>\n",
              "      <td>0.000000</td>\n",
              "      <td>0.0</td>\n",
              "      <td>0.066896</td>\n",
              "      <td>0.027764</td>\n",
              "      <td>0.000000</td>\n",
              "      <td>0.000000</td>\n",
              "      <td>0.066896</td>\n",
              "      <td>0.000000</td>\n",
              "      <td>0.013882</td>\n",
              "      <td>0.066896</td>\n",
              "    </tr>\n",
              "  </tbody>\n",
              "</table>\n",
              "</div>"
            ],
            "text/plain": [
              "       blue       see     today  the  ...        we       sky    bright   shining\n",
              "0  0.150515  0.000000  0.000000  0.0  ...  0.000000  0.075257  0.000000  0.000000\n",
              "1  0.000000  0.000000  0.120412  0.0  ...  0.000000  0.000000  0.024988  0.000000\n",
              "2  0.000000  0.000000  0.000000  0.0  ...  0.000000  0.043004  0.017848  0.000000\n",
              "3  0.000000  0.066896  0.000000  0.0  ...  0.066896  0.000000  0.013882  0.066896\n",
              "\n",
              "[4 rows x 12 columns]"
            ]
          },
          "metadata": {
            "tags": []
          },
          "execution_count": 117
        }
      ]
    },
    {
      "cell_type": "markdown",
      "metadata": {
        "id": "ubXaf2tVHdCb"
      },
      "source": [
        "## Using Sklearn"
      ]
    },
    {
      "cell_type": "code",
      "metadata": {
        "id": "ObJAZ0ZoH10C"
      },
      "source": [
        "from sklearn.feature_extraction.text import TfidfVectorizer"
      ],
      "execution_count": null,
      "outputs": []
    },
    {
      "cell_type": "code",
      "metadata": {
        "id": "6_P52ArSH2t0"
      },
      "source": [
        "tfidf = TfidfVectorizer()"
      ],
      "execution_count": null,
      "outputs": []
    },
    {
      "cell_type": "code",
      "metadata": {
        "id": "zdIecsACH6RW"
      },
      "source": [
        "response = tfidf.fit_transform([doc1, doc2, doc3, doc4])"
      ],
      "execution_count": 133,
      "outputs": []
    },
    {
      "cell_type": "code",
      "metadata": {
        "colab": {
          "base_uri": "https://localhost:8080/"
        },
        "id": "45wDo02-IE5b",
        "outputId": "73e0f317-3de0-4040-fb94-d0adf17d18ef"
      },
      "source": [
        "feature_names = tfidf.get_feature_names()\n",
        "for col in response.nonzero()[1]:\n",
        "    print (feature_names[col], ' - ', response[0, col])"
      ],
      "execution_count": null,
      "outputs": [
        {
          "output_type": "stream",
          "text": [
            "blue  -  0.6591911178676787\n",
            "is  -  0.42075315164463567\n",
            "sky  -  0.5197138488789809\n",
            "the  -  0.3439932714296342\n",
            "today  -  0.0\n",
            "bright  -  0.0\n",
            "sun  -  0.0\n",
            "is  -  0.42075315164463567\n",
            "the  -  0.3439932714296342\n",
            "in  -  0.0\n",
            "bright  -  0.0\n",
            "sun  -  0.0\n",
            "is  -  0.42075315164463567\n",
            "sky  -  0.5197138488789809\n",
            "the  -  0.3439932714296342\n",
            "shining  -  0.0\n",
            "see  -  0.0\n",
            "can  -  0.0\n",
            "we  -  0.0\n",
            "bright  -  0.0\n",
            "sun  -  0.0\n",
            "the  -  0.3439932714296342\n"
          ],
          "name": "stdout"
        }
      ]
    }
  ]
}